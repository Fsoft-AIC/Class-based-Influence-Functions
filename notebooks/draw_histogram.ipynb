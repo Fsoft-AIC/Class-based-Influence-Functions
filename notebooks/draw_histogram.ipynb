{
 "cells": [
  {
   "cell_type": "code",
   "execution_count": 1,
   "id": "e31ddb01-d482-47eb-8002-227b48e5273e",
   "metadata": {},
   "outputs": [
    {
     "name": "stderr",
     "output_type": "stream",
     "text": [
      "/media/SSD/ThangND34_env/lib/python3.8/site-packages/tqdm/auto.py:22: TqdmWarning: IProgress not found. Please update jupyter and ipywidgets. See https://ipywidgets.readthedocs.io/en/stable/user_install.html\n",
      "  from .autonotebook import tqdm as notebook_tqdm\n"
     ]
    }
   ],
   "source": [
    "import torch\n",
    "import os\n",
    "import pandas as pd\n",
    "import matplotlib.pyplot as plt\n",
    "import tqdm\n",
    "import random\n",
    "import numpy as np"
   ]
  },
  {
   "cell_type": "code",
   "execution_count": 2,
   "id": "ec33eef8-7018-4ab1-a680-3d7aa710c52b",
   "metadata": {},
   "outputs": [],
   "source": [
    "data = 'bigclone'\n",
    "model = 'codebert'\n",
    "percent = '20'\n",
    "number_of_samples = 3000\n",
    "train_gradients =  torch.load(os.path.join('checkpoints', f'{data}', f'{data}_{model}_train_noise_{percent}%', f'noise{percent}%.grad'))"
   ]
  },
  {
   "cell_type": "code",
   "execution_count": 3,
   "id": "c74c8aac-aa6f-4d6b-b3cc-1eb0a5a69440",
   "metadata": {},
   "outputs": [],
   "source": [
    "pd_data = pd.read_csv(f'data/{data}/processed/noise/noise{percent}%.csv')"
   ]
  },
  {
   "cell_type": "code",
   "execution_count": 4,
   "id": "ff55da18-3b46-4011-8711-a8b2eec42282",
   "metadata": {},
   "outputs": [],
   "source": [
    "min_class = min(set(pd_data['label']))\n",
    "max_class = max(set(pd_data['label']))\n",
    "    \n",
    "samples = random.sample(train_gradients, number_of_samples)\n",
    "results = torch.zeros(len(samples), len(samples), dtype=float)"
   ]
  },
  {
   "cell_type": "code",
   "execution_count": 5,
   "id": "9a899ccc-c32b-4124-a30e-e2f53a82f486",
   "metadata": {},
   "outputs": [
    {
     "name": "stderr",
     "output_type": "stream",
     "text": [
      "100%|█████████████████████████████████████████████████████████████████████████████████████████████████████████████████████████████████| 3000/3000 [04:14<00:00, 11.81it/s]\n"
     ]
    }
   ],
   "source": [
    "for p, gt in enumerate(tqdm.tqdm(samples)):\n",
    "    for q, g in enumerate(samples):\n",
    "        influence = sum([torch.sum(k * j).data for k, j in zip(gt, g)])\n",
    "        influence = float(influence.cpu().detach().numpy())\n",
    "        results[p][q] = influence\n",
    "results = results.cpu().detach().numpy()\n",
    "values = []\n",
    "for i in range(number_of_samples-1):\n",
    "    for j in range(i+1, number_of_samples):\n",
    "        values.append(results[i][j])"
   ]
  },
  {
   "cell_type": "code",
   "execution_count": 6,
   "id": "e8f066ae-9512-4138-b1d1-35f1a141d3cb",
   "metadata": {},
   "outputs": [
    {
     "name": "stderr",
     "output_type": "stream",
     "text": [
      "100%|█████████████████████████████████████████████████████████████████████████████████████████████████████████████████████████████████| 3000/3000 [03:46<00:00, 13.26it/s]\n"
     ]
    }
   ],
   "source": [
    "# subclass\n",
    "# for c in range(min_class, max_class + 1):\n",
    "subclass0 = []\n",
    "data_class = pd_data[pd_data['label']==0][:number_of_samples] # lay number_of_samples samples moi class\n",
    "n = len(data_class.index)\n",
    "results =  np.zeros((n,n))\n",
    "for p, gt in enumerate(tqdm.tqdm(range(n))):\n",
    "    gt = train_gradients[data_class.index[p]]\n",
    "    for q, g in enumerate(range(n)):\n",
    "        g = train_gradients[data_class.index[q]]\n",
    "        influence = sum([torch.sum(k * j).data for k, j in zip(gt, g)])\n",
    "        influence = float(influence.cpu().detach().numpy())\n",
    "        results[p][q] = influence \n",
    "# values = []\n",
    "for i in range(n-1):\n",
    "    for j in range(i+1, n):\n",
    "        subclass0.append(results[i][j])\n",
    "# fig, ax = plt.subplots(1, 1)\n",
    "# ax.hist(values, bins=100)\n",
    "# plt.savefig(f'figures/{data}/dot/{data}_grad_dot_class_{c}.pdf')"
   ]
  },
  {
   "cell_type": "code",
   "execution_count": 7,
   "id": "7886a89a-8aa8-465b-a763-5b40bcd9f6f9",
   "metadata": {},
   "outputs": [
    {
     "name": "stderr",
     "output_type": "stream",
     "text": [
      "100%|█████████████████████████████████████████████████████████████████████████████████████████████████████████████████████████████████| 3000/3000 [03:48<00:00, 13.15it/s]\n"
     ]
    }
   ],
   "source": [
    "# subclass\n",
    "# for c in range(min_class, max_class + 1):\n",
    "subclass1 = []\n",
    "data_class = pd_data[pd_data['label']==1][:number_of_samples] # lay 1000 samples moi class\n",
    "n = len(data_class.index)\n",
    "results =  np.zeros((n,n))\n",
    "for p, gt in enumerate(tqdm.tqdm(range(n))):\n",
    "    gt = train_gradients[data_class.index[p]]\n",
    "    for q, g in enumerate(range(n)):\n",
    "        g = train_gradients[data_class.index[q]]\n",
    "        influence = sum([torch.sum(k * j).data for k, j in zip(gt, g)])\n",
    "        influence = float(influence.cpu().detach().numpy())\n",
    "        results[p][q] = influence \n",
    "# values = []\n",
    "for i in range(n-1):\n",
    "    for j in range(i+1, n):\n",
    "        subclass1.append(results[i][j])\n",
    "# fig, ax = plt.subplots(1, 1)\n",
    "# ax.hist(values, bins=100)\n",
    "# plt.savefig(f'figures/{data}/dot/{data}_grad_dot_class_{c}.pdf')"
   ]
  },
  {
   "cell_type": "code",
   "execution_count": 8,
   "id": "92327278-f5b9-436f-a1d4-5af9d91e2346",
   "metadata": {},
   "outputs": [],
   "source": [
    "# subclass2 = []\n",
    "# data_class = pd_data[pd_data['label']==2][:number_of_samples] # lay 1000 samples moi class\n",
    "# n = len(data_class.index)\n",
    "# results =  np.zeros((n,n))\n",
    "# for p, gt in enumerate(tqdm.tqdm(range(n))):\n",
    "#     gt = train_gradients[data_class.index[p]]\n",
    "#     for q, g in enumerate(range(n)):\n",
    "#         g = train_gradients[data_class.index[q]]\n",
    "#         influence = sum([torch.sum(k * j).data for k, j in zip(gt, g)])\n",
    "#         influence = float(influence.cpu().detach().numpy())\n",
    "#         results[p][q] = influence \n",
    "# # values = []\n",
    "# for i in range(n-1):\n",
    "#     for j in range(i+1, n):\n",
    "#         subclass2.append(results[i][j])"
   ]
  },
  {
   "cell_type": "code",
   "execution_count": 9,
   "id": "e36305d7-1452-464e-aedd-92b49dad6221",
   "metadata": {},
   "outputs": [
    {
     "data": {
      "image/png": "[encoded data removed]",
      "text/plain": [
       "<Figure size 432x288 with 1 Axes>"
      ]
     },
     "metadata": {
      "needs_background": "light"
     },
     "output_type": "display_data"
    }
   ],
   "source": [
    "fig, ax = plt.subplots(1, 1)\n",
    "all_class = ax.hist(np.array(values), facecolor='r',alpha=0.7, bins=50, label='all classes')\n",
    "class_0 = ax.hist(np.array(subclass0), facecolor='g',alpha=0.7, bins=50, label='class 0')\n",
    "class_1 = ax.hist(np.array(subclass1), facecolor='y',alpha=0.7, bins=50, label='class 1')\n",
    "# class_2 = ax.hist(np.array(subclass2), facecolor='blue',alpha=0.7, bins=50, label='class 2')\n",
    "# ax.set_title('Dot product of gradient\\'s samples in IMDB training set')\n",
    "plt.legend(loc=\"upper right\")\n",
    "plt.savefig(f'figures/{data}/{data}_grad_dot_combineplot.pdf')"
   ]
  },
  {
   "cell_type": "code",
   "execution_count": 10,
   "id": "27526811-0d47-40a3-8d5c-311415da084a",
   "metadata": {},
   "outputs": [],
   "source": [
    "# plt.savefig(f'figures/{data}/{data}_grad_dot_combineplot.pdf')"
   ]
  },
  {
   "cell_type": "code",
   "execution_count": null,
   "id": "6af9593c-eef9-41ee-8d46-451a7f370a59",
   "metadata": {},
   "outputs": [],
   "source": []
  }
 ],
 "metadata": {
  "kernelspec": {
   "display_name": "Python 3.9.5 ('env')",
   "language": "python",
   "name": "python3"
  },
  "language_info": {
   "codemirror_mode": {
    "name": "ipython",
    "version": 3
   },
   "file_extension": ".py",
   "mimetype": "text/x-python",
   "name": "python",
   "nbconvert_exporter": "python",
   "pygments_lexer": "ipython3",
   "version": "3.9.5"
  },
  "vscode": {
   "interpreter": {
    "hash": "bfae684ffb17a675cffefff1176f1361c7c561052b7db5355ffea79dee0f2172"
   }
  }
 },
 "nbformat": 4,
 "nbformat_minor": 5
}
