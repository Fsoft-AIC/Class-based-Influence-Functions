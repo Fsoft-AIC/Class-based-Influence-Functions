{
 "cells": [
  {
   "cell_type": "code",
   "execution_count": 101,
   "id": "9c40233b-6b8c-4074-b9d2-ce7ac37a117b",
   "metadata": {},
   "outputs": [],
   "source": [
    "import torch\n",
    "import os\n",
    "import pandas as pd\n",
    "import matplotlib.pyplot as plt\n",
    "import tqdm\n",
    "import random\n",
    "import numpy as np"
   ]
  },
  {
   "cell_type": "code",
   "execution_count": 102,
   "id": "7a976ebb-f493-4484-8eab-f5974478d58c",
   "metadata": {},
   "outputs": [],
   "source": [
    "all_data = [np.random.normal(0, std, size=100) for std in range(1, 4)]"
   ]
  },
  {
   "cell_type": "code",
   "execution_count": 103,
   "id": "b9e64017-45d6-415f-878c-96e531a2dfd5",
   "metadata": {},
   "outputs": [],
   "source": [
    "# IMDB - subclass: 100\n",
    "\n",
    "imdb_noise5_if = np.array([37.48571428571428, 33.82857142857143, 40.457142857142856])/100\n",
    "imdb_noise5_if_class = np.array([58.62857142857143, 54.400000000000006, 56.57142857142857])/100\n",
    "\n",
    "imdb_noise10_if = np.array([36.74285714285715, 42.05714285714286,44.05714285714286])/100\n",
    "imdb_noise10_if_class = np.array([59.31428571428572, 68.4, 64.74285714285715])/100\n",
    "\n",
    "imdb_noise15_if = np.array([46.01904761904762, 42.819047619047616, 44.38095238095238])/100\n",
    "imdb_noise15_if_class = np.array([72.26666666666667, 70.47619047619048, 66.5904761904762])/100\n",
    "\n",
    "imdb_noise20_if = np.array([46.85714285714286,65.88571428571429, 51.17142857142857])/100\n",
    "imdb_noise20_if_class = np.array([70.88571428571429,74.62857142857143, 72.57142857142857])/100\n",
    "\n",
    "imdb_all_if = [imdb_noise5_if, imdb_noise10_if, imdb_noise15_if, imdb_noise20_if]\n",
    "imdb_all_if_class = [imdb_noise5_if_class, imdb_noise10_if_class, imdb_noise15_if_class, imdb_noise20_if_class]"
   ]
  },
  {
   "cell_type": "code",
   "execution_count": 104,
   "id": "67752f8e-ae01-4ff4-a7cd-352743cf985d",
   "metadata": {},
   "outputs": [],
   "source": [
    "labels = ['5%', '10%', '15%', '20%']"
   ]
  },
  {
   "cell_type": "code",
   "execution_count": 105,
   "id": "892657bc-3fb3-44a8-a803-2e0a398086f5",
   "metadata": {},
   "outputs": [
    {
     "name": "stdout",
     "output_type": "stream",
     "text": [
      "PathPatch6((0.775, 0.356571) ...)\n",
      "PathPatch6((1.775, 0.394) ...)\n",
      "PathPatch6((2.775, 0.436) ...)\n",
      "PathPatch6((3.775, 0.490143) ...)\n",
      "PathPatch6((0.775, 0.554857) ...)\n",
      "PathPatch6((1.775, 0.620286) ...)\n",
      "PathPatch6((2.775, 0.685333) ...)\n",
      "PathPatch6((3.775, 0.717286) ...)\n"
     ]
    },
    {
     "data": {
      "image/png": "[encoded data removed]",
      "text/plain": [
       "<Figure size 432x288 with 1 Axes>"
      ]
     },
     "metadata": {
      "needs_background": "light"
     },
     "output_type": "display_data"
    }
   ],
   "source": [
    "fig, ax = plt.subplots(nrows=1, ncols=1)\n",
    "pbox1 = ax.boxplot(imdb_all_if,\n",
    "                 vert=True, \n",
    "                 patch_artist=True, \n",
    "                 labels=labels)\n",
    "pbox2 = ax.boxplot(imdb_all_if_class,\n",
    "                 vert=True, \n",
    "                 patch_artist=True, \n",
    "                 labels=labels)\n",
    "\n",
    "# ax[0,0].set_ylim([0, 1])\n",
    "ax.yaxis.grid(True)\n",
    "ax.set_ylabel(r'Detection accuracy of IF')\n",
    "ax.set_xlabel(r'Noise in dataset')\n",
    "# ax.legend(loc=\"lower right\")\n",
    "colors = ['pink', 'limegreen']\n",
    "\n",
    "for patch in pbox1['boxes']:\n",
    "    print(patch)\n",
    "    patch.set_facecolor(colors[0])\n",
    "for patch in pbox2['boxes']:\n",
    "    print(patch)\n",
    "    patch.set_facecolor(colors[1])\n",
    "    \n",
    "ax.legend([pbox1[\"boxes\"][0], pbox2[\"boxes\"][0]], ['IF', 'IF-class'], loc='lower right')\n",
    "plt.savefig(f'figures/imdb_if_change_by_noise.png')"
   ]
  },
  {
   "cell_type": "code",
   "execution_count": 106,
   "id": "b76ddc90-9b01-4d0d-b20d-d2ad3f9b9fb6",
   "metadata": {},
   "outputs": [],
   "source": [
    "# Bigclone - subclass: 100\n",
    "\n",
    "bigclone_noise5_if = np.array([57.9134295227525, 56.115427302996665, 50.76581576026638])/100\n",
    "bigclone_noise5_if_class = np.array([90.72142064372919, 86.19311875693674, 65.37180910099889])/100\n",
    "\n",
    "bigclone_noise10_if = np.array([65.92674805771365, 49.87791342952275, 53.54051054384018])/100\n",
    "bigclone_noise10_if_class = np.array([87.93562708102108, 92.18645948945617, 84.63928967813541])/100\n",
    "\n",
    "bigclone_noise15_if = np.array([51.74990751017388, 62.301146873843884, 54.946355900850904])/100\n",
    "bigclone_noise15_if_class = np.array([88.97521272660008, 86.64446910839808, 86.83684794672585])/100\n",
    "\n",
    "bigclone_noise20_if = np.array([54.40066592674806, 52.791342952275244, 59.63928967813541])/100\n",
    "bigclone_noise20_if_class = np.array([86.7369589345172, 87.86348501664817, 86.33185349611543])/100\n",
    "\n",
    "bigclone_all_if = [bigclone_noise5_if, bigclone_noise10_if, bigclone_noise15_if, bigclone_noise20_if]\n",
    "bigclone_all_if_class = [bigclone_noise5_if_class, bigclone_noise10_if_class, bigclone_noise15_if_class, bigclone_noise20_if_class]"
   ]
  },
  {
   "cell_type": "code",
   "execution_count": 107,
   "id": "2a805e78-2af8-4c20-81fc-f7b669c094b3",
   "metadata": {},
   "outputs": [
    {
     "name": "stdout",
     "output_type": "stream",
     "text": [
      "PathPatch6((0.775, 0.534406) ...)\n",
      "PathPatch6((1.775, 0.517092) ...)\n",
      "PathPatch6((2.775, 0.533481) ...)\n",
      "PathPatch6((3.775, 0.53596) ...)\n",
      "PathPatch6((0.775, 0.757825) ...)\n",
      "PathPatch6((1.775, 0.862875) ...)\n",
      "PathPatch6((2.775, 0.867407) ...)\n",
      "PathPatch6((3.775, 0.865344) ...)\n"
     ]
    },
    {
     "data": {
      "image/png": "[encoded data removed]",
      "text/plain": [
       "<Figure size 432x288 with 1 Axes>"
      ]
     },
     "metadata": {
      "needs_background": "light"
     },
     "output_type": "display_data"
    }
   ],
   "source": [
    "fig, ax = plt.subplots(nrows=1, ncols=1)\n",
    "pbox1 = ax.boxplot(bigclone_all_if,\n",
    "                 vert=True, \n",
    "                 patch_artist=True, \n",
    "                 labels=labels)\n",
    "pbox2 = ax.boxplot(bigclone_all_if_class,\n",
    "                 vert=True, \n",
    "                 patch_artist=True, \n",
    "                 labels=labels)\n",
    "\n",
    "# ax[0,0].set_ylim([0, 1])\n",
    "ax.yaxis.grid(True)\n",
    "ax.set_ylabel(r'Detection accuracy of IF')\n",
    "ax.set_xlabel(r'Noise in dataset')\n",
    "# ax.legend(loc=\"lower right\")\n",
    "colors = ['pink', 'limegreen']\n",
    "\n",
    "for patch in pbox1['boxes']:\n",
    "    print(patch)\n",
    "    patch.set_facecolor(colors[0])\n",
    "for patch in pbox2['boxes']:\n",
    "    print(patch)\n",
    "    patch.set_facecolor(colors[1])\n",
    "    \n",
    "ax.legend([pbox1[\"boxes\"][0], pbox2[\"boxes\"][0]], ['IF', 'IF-class'], loc='center right')\n",
    "plt.savefig(f'figures/bigclone_if_change_by_noise.png')"
   ]
  },
  {
   "cell_type": "code",
   "execution_count": 112,
   "id": "fffcaadf-1ced-46fe-82ae-df8b144e38ff",
   "metadata": {},
   "outputs": [],
   "source": [
    "# SNLI - subclass: 100\n",
    "\n",
    "snli_noise5_if = np.array([34.680355322557155, 46.53778942769768, 38.74326489005388])/100\n",
    "snli_noise5_if_class = np.array([42.970001456239984, 37.308868501529055, 36.14387651084899])/100\n",
    "\n",
    "snli_noise10_if = np.array([45.11067423911461, 54.77646716178827 , 60.040774719673806])/100\n",
    "snli_noise10_if_class = np.array([58.14584243483326, 64.46228338430173 , 63.67591379059269])/100\n",
    "\n",
    "snli_noise15_if = np.array([58.730158730158735, 42.819047619047616 , 63.30760642687249])/100\n",
    "snli_noise15_if_class = np.array([73.54618707829717, 70.47619047619048, 71.66763749332557])/100\n",
    "\n",
    "snli_noise20_if = np.array([46.62334352701325, 57.50327653997379 ,74.77519295179846])/100\n",
    "snli_noise20_if_class = np.array([75.37953254696373, 76.58821173729432 ,76.45350953837192])/100\n",
    "\n",
    "snli_all_if = [snli_noise5_if, snli_noise10_if, snli_noise15_if, snli_noise20_if]\n",
    "snli_all_if_class = [snli_noise5_if_class, snli_noise10_if_class, snli_noise15_if_class, snli_noise20_if_class]"
   ]
  },
  {
   "cell_type": "code",
   "execution_count": 114,
   "id": "e1ae1166-619e-4f54-a2e7-9bbbd21d7227",
   "metadata": {},
   "outputs": [
    {
     "name": "stdout",
     "output_type": "stream",
     "text": [
      "PathPatch6((0.775, 0.367118) ...)\n",
      "PathPatch6((1.775, 0.499436) ...)\n",
      "PathPatch6((2.775, 0.507746) ...)\n",
      "PathPatch6((3.775, 0.520633) ...)\n",
      "PathPatch6((0.775, 0.367264) ...)\n",
      "PathPatch6((1.775, 0.609109) ...)\n",
      "PathPatch6((2.775, 0.710719) ...)\n",
      "PathPatch6((3.775, 0.759165) ...)\n"
     ]
    },
    {
     "data": {
      "image/png": "[encoded data removed]",
      "text/plain": [
       "<Figure size 432x288 with 1 Axes>"
      ]
     },
     "metadata": {
      "needs_background": "light"
     },
     "output_type": "display_data"
    }
   ],
   "source": [
    "fig, ax = plt.subplots(nrows=1, ncols=1)\n",
    "pbox1 = ax.boxplot(snli_all_if,\n",
    "                 vert=True, \n",
    "                 patch_artist=True, \n",
    "                 labels=labels)\n",
    "pbox2 = ax.boxplot(snli_all_if_class,\n",
    "                 vert=True, \n",
    "                 patch_artist=True, \n",
    "                 labels=labels)\n",
    "\n",
    "# ax[0,0].set_ylim([0, 1])\n",
    "ax.yaxis.grid(True)\n",
    "ax.set_ylabel(r'Detection accuracy of IF')\n",
    "ax.set_xlabel(r'Noise in dataset')\n",
    "# ax.legend(loc=\"lower right\")\n",
    "colors = ['pink', 'limegreen']\n",
    "\n",
    "for patch in pbox1['boxes']:\n",
    "    print(patch)\n",
    "    patch.set_facecolor(colors[0])\n",
    "for patch in pbox2['boxes']:\n",
    "    print(patch)\n",
    "    patch.set_facecolor(colors[1])\n",
    "    \n",
    "ax.legend([pbox1[\"boxes\"][0], pbox2[\"boxes\"][0]], ['IF', 'IF-class'], loc='lower right')\n",
    "plt.savefig(f'figures/snli_if_change_by_noise.pdf')"
   ]
  },
  {
   "cell_type": "code",
   "execution_count": null,
   "id": "7351acb6-685e-45fc-b030-04c089a7a743",
   "metadata": {},
   "outputs": [],
   "source": []
  }
 ],
 "metadata": {
  "kernelspec": {
   "display_name": "Python 3 (ipykernel)",
   "language": "python",
   "name": "python3"
  },
  "language_info": {
   "codemirror_mode": {
    "name": "ipython",
    "version": 3
   },
   "file_extension": ".py",
   "mimetype": "text/x-python",
   "name": "python",
   "nbconvert_exporter": "python",
   "pygments_lexer": "ipython3",
   "version": "3.8.10"
  }
 },
 "nbformat": 4,
 "nbformat_minor": 5
}
