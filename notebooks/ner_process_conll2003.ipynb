{
 "cells": [
  {
   "cell_type": "markdown",
   "metadata": {},
   "source": [
    "# Read Dataset CoNLL2003"
   ]
  },
  {
   "cell_type": "code",
   "execution_count": 1,
   "metadata": {},
   "outputs": [],
   "source": [
    "file_name = 'data/conll2003/ner/train.txt'\n",
    "# file_name2 = 'data/conll2003/ner/train.txt'"
   ]
  },
  {
   "cell_type": "code",
   "execution_count": 2,
   "metadata": {},
   "outputs": [
    {
     "name": "stderr",
     "output_type": "stream",
     "text": [
      "/media/SSD/NDT34-venv/lib/python3.8/site-packages/tqdm/auto.py:22: TqdmWarning: IProgress not found. Please update jupyter and ipywidgets. See https://ipywidgets.readthedocs.io/en/stable/user_install.html\n",
      "  from .autonotebook import tqdm as notebook_tqdm\n"
     ]
    }
   ],
   "source": [
    "from dataloaders.ner_conll2003 import get_labels, load_data_from_file"
   ]
  },
  {
   "cell_type": "code",
   "execution_count": 3,
   "metadata": {},
   "outputs": [],
   "source": [
    "data = []\n",
    "sentence = []\n",
    "label = []"
   ]
  },
  {
   "cell_type": "code",
   "execution_count": 4,
   "metadata": {},
   "outputs": [],
   "source": [
    "f = open(file_name, \"r\")\n",
    "# f2 = open(file_name2, \"w\")\n",
    "# f2.write(\"-DOCSTART- -X- -X- O\\n\\n\")\n",
    "\n",
    "for line in f:\n",
    "    if len(line)==0 or line.startswith('-DOCSTART') or line[0] == \"\\n\":\n",
    "        if len(sentence) > 0:\n",
    "            data.append((sentence, label))\n",
    "            sentence = []\n",
    "            label = []\n",
    "            # f2.write(\"\\n\")\n",
    "        continue\n",
    "    splits = line.split(' ')\n",
    "    word = splits[0]\n",
    "    tag = splits[-1][:-1]\n",
    "    \n",
    "    sentence.append(word)\n",
    "    label.append(tag)\n",
    "    # f2.write(\"{} {}\\n\".format(word, tag))\n",
    "\n",
    "if len(sentence) > 0:\n",
    "    data.append((sentence, label))\n",
    "    sentence = []\n",
    "    label = []\n",
    "\n",
    "f.close()\n",
    "# f2.close()"
   ]
  },
  {
   "cell_type": "code",
   "execution_count": 5,
   "metadata": {},
   "outputs": [
    {
     "data": {
      "text/plain": [
       "14041"
      ]
     },
     "execution_count": 5,
     "metadata": {},
     "output_type": "execute_result"
    }
   ],
   "source": [
    "len(data)"
   ]
  },
  {
   "cell_type": "code",
   "execution_count": 6,
   "metadata": {},
   "outputs": [],
   "source": [
    "# l = []\n",
    "# for (sentences, labels) in data:\n",
    "#     l.extend(labels)"
   ]
  },
  {
   "cell_type": "code",
   "execution_count": 7,
   "metadata": {},
   "outputs": [],
   "source": [
    "# set(l)"
   ]
  },
  {
   "cell_type": "markdown",
   "metadata": {},
   "source": [
    "# Create noisy dataset"
   ]
  },
  {
   "cell_type": "code",
   "execution_count": 8,
   "metadata": {},
   "outputs": [],
   "source": [
    "percent = 0.3\n",
    "number_change = int(len(data)*percent)\n",
    "indexes_change = []"
   ]
  },
  {
   "cell_type": "code",
   "execution_count": 9,
   "metadata": {},
   "outputs": [],
   "source": [
    "import random\n",
    "import numpy as np\n",
    "\n",
    "while len(indexes_change) < number_change:\n",
    "    ind = random.choice(np.arange(0, len(data)))\n",
    "    if ind not in indexes_change:\n",
    "        indexes_change.append(ind)"
   ]
  },
  {
   "cell_type": "code",
   "execution_count": 10,
   "metadata": {},
   "outputs": [
    {
     "data": {
      "text/plain": [
       "4212"
      ]
     },
     "execution_count": 10,
     "metadata": {},
     "output_type": "execute_result"
    }
   ],
   "source": [
    "len(indexes_change) # index của các câu sẽ bị đảo nhãn"
   ]
  },
  {
   "cell_type": "code",
   "execution_count": 11,
   "metadata": {},
   "outputs": [
    {
     "data": {
      "text/plain": [
       "4212"
      ]
     },
     "execution_count": 11,
     "metadata": {},
     "output_type": "execute_result"
    }
   ],
   "source": [
    "len(set(indexes_change))"
   ]
  },
  {
   "cell_type": "code",
   "execution_count": 12,
   "metadata": {},
   "outputs": [],
   "source": [
    "target_file = 'data/conll2003/ner/noise_BItags_30sen_30tok.txt'\n",
    "f = open(target_file, \"w\")\n",
    "f.write(\"-DOCSTART- -X- -X- O\\n\\n\")\n",
    "\n",
    "for index, (words, tags) in enumerate(data):\n",
    "    # make lists copy\n",
    "    words = words.copy()\n",
    "    tags = tags.copy()\n",
    "    change = [0] * len(words)\n",
    "    origin_tags = tags.copy()\n",
    "    \n",
    "    if index in indexes_change:\n",
    "        # change some tag in tags\n",
    "        # select some ind to change\n",
    "        num_change_tags = int(len(tags) * percent)\n",
    "        ind_change_tags = []\n",
    "        while len(ind_change_tags) < num_change_tags:\n",
    "            ind = random.choice(np.arange(0, len(tags)))\n",
    "            if ind not in ind_change_tags:\n",
    "                ind_change_tags.append(ind)\n",
    "        \n",
    "        # Change\n",
    "        for i in ind_change_tags:\n",
    "            old_tag = new_tag = tags[i]\n",
    "            while old_tag == new_tag:\n",
    "                new_tag = random.choice(get_labels())\n",
    "            tags[i] = new_tag\n",
    "            change[i] = 1\n",
    "        \n",
    "        # Recheck\n",
    "        for i, (w, c, t, o) in enumerate(zip(words, change, tags, origin_tags)):\n",
    "            # print(\"{:10}\\t\\t{:3}\\t{:5}\\t{:5}\".format(w,c,t,o))\n",
    "            if c==1 and t[:1] == 'I':\n",
    "                if i-1>=0 and tags[i-1] != 'O':\n",
    "                    tags[i] = 'I' + tags[i-1][1:]\n",
    "                elif (i-1>=0 and tags[i-1] == 'O') or i == 0:\n",
    "                    tags[i] = 'B' + tags[i][1:]\n",
    "    #     # For test\n",
    "    #     print()\n",
    "    #     for i, (w, c, t, o) in enumerate(zip(words, change, tags, origin_tags)):\n",
    "    #         print(\"{:10}\\t\\t{:3}\\t{:5}\\t{:5}\".format(w,c,t,o))\n",
    "    #     print('-'*50)\n",
    "    #     c+=1\n",
    "    # if c == 5:\n",
    "    #     break\n",
    "            \n",
    "        \n",
    "    # write to file\n",
    "    for i in range(len(words)):\n",
    "        f.write(\"{} {} {} {}\\n\".format(words[i], origin_tags[i], change[i], tags[i]))\n",
    "    f.write(\"\\n\")\n",
    "f.close()"
   ]
  },
  {
   "cell_type": "code",
   "execution_count": null,
   "metadata": {},
   "outputs": [],
   "source": []
  },
  {
   "cell_type": "code",
   "execution_count": null,
   "metadata": {},
   "outputs": [],
   "source": []
  }
 ],
 "metadata": {
  "kernelspec": {
   "display_name": "Python 3 (ipykernel)",
   "language": "python",
   "name": "python3"
  },
  "language_info": {
   "codemirror_mode": {
    "name": "ipython",
    "version": 3
   },
   "file_extension": ".py",
   "mimetype": "text/x-python",
   "name": "python",
   "nbconvert_exporter": "python",
   "pygments_lexer": "ipython3",
   "version": "3.9.5"
  },
  "vscode": {
   "interpreter": {
    "hash": "bfae684ffb17a675cffefff1176f1361c7c561052b7db5355ffea79dee0f2172"
   }
  }
 },
 "nbformat": 4,
 "nbformat_minor": 4
}
